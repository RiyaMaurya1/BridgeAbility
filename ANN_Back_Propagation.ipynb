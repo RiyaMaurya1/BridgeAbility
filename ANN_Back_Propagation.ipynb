{
  "nbformat": 4,
  "nbformat_minor": 0,
  "metadata": {
    "colab": {
      "provenance": [],
      "authorship_tag": "ABX9TyNtPm/d5/FvxPwWfws+eOwT",
      "include_colab_link": true
    },
    "kernelspec": {
      "name": "python3",
      "display_name": "Python 3"
    },
    "language_info": {
      "name": "python"
    }
  },
  "cells": [
    {
      "cell_type": "markdown",
      "metadata": {
        "id": "view-in-github",
        "colab_type": "text"
      },
      "source": [
        "<a href=\"https://colab.research.google.com/github/RiyaMaurya1/BridgeAbility/blob/main/ANN_Back_Propagation.ipynb\" target=\"_parent\"><img src=\"https://colab.research.google.com/assets/colab-badge.svg\" alt=\"Open In Colab\"/></a>"
      ]
    },
    {
      "cell_type": "code",
      "execution_count": 22,
      "metadata": {
        "id": "VJh7yYSviEfE"
      },
      "outputs": [],
      "source": [
        "import numpy as np"
      ]
    },
    {
      "cell_type": "code",
      "source": [
        "X = np.array([\n",
        "    [1,0,1,0],\n",
        "    [1,0,1,1],\n",
        "    [0,1,0,1]\n",
        "])\n",
        "\n",
        "y = np.array([[1],[1],[0]])\n",
        "\n",
        "X.shape"
      ],
      "metadata": {
        "colab": {
          "base_uri": "https://localhost:8080/"
        },
        "id": "FDPRPm00XtO9",
        "outputId": "15f41953-226c-413a-8a44-6dd6a18f6540"
      },
      "execution_count": 23,
      "outputs": [
        {
          "output_type": "execute_result",
          "data": {
            "text/plain": [
              "(3, 4)"
            ]
          },
          "metadata": {},
          "execution_count": 23
        }
      ]
    },
    {
      "cell_type": "code",
      "source": [
        "inputneurons = X.shape[1]\n",
        "\n",
        "# equal to no. of features\n",
        "hiddenneurons = 4 \n",
        "\n",
        "outputneurons = 1\n",
        "\n"
      ],
      "metadata": {
        "id": "B1CSwdbVX6m4"
      },
      "execution_count": 24,
      "outputs": []
    },
    {
      "cell_type": "code",
      "source": [
        "weightshidden = np.random.uniform(size = (inputneurons, hiddenneurons))\n",
        "biashidden = np.random.uniform(size = (1, hiddenneurons))\n",
        "biasoutput = np.random.uniform(size = (1, outputneurons))\n",
        "weightsoutput = np.random.uniform(size = (hiddenneurons, outputneurons))"
      ],
      "metadata": {
        "id": "Gb_c9UkLYe3Z"
      },
      "execution_count": 25,
      "outputs": []
    },
    {
      "cell_type": "code",
      "source": [
        "def sigmoid(x):\n",
        "  return 1/(1 + np.exp(-x))\n"
      ],
      "metadata": {
        "id": "T6IOi-UjYfBg"
      },
      "execution_count": 26,
      "outputs": []
    },
    {
      "cell_type": "code",
      "source": [
        "# feed forward \n",
        "\n",
        "# Step 1: Apply linear equation\n",
        "fx1 = np.dot(X, weightshidden) + biashidden\n",
        "\n",
        "fx1"
      ],
      "metadata": {
        "id": "4OUxd2MdiXq9",
        "colab": {
          "base_uri": "https://localhost:8080/"
        },
        "outputId": "cebe6b9d-16d3-4780-efb1-448db7584023"
      },
      "execution_count": 27,
      "outputs": [
        {
          "output_type": "execute_result",
          "data": {
            "text/plain": [
              "array([[0.88211792, 1.46183689, 1.61588339, 1.6880048 ],\n",
              "       [1.70920422, 2.05403576, 2.20516305, 2.53793484],\n",
              "       [1.75335449, 2.01808979, 1.17256779, 2.21507785]])"
            ]
          },
          "metadata": {},
          "execution_count": 27
        }
      ]
    },
    {
      "cell_type": "code",
      "source": [
        "# Step 2: Apply activation for non-linearity\n",
        "z = sigmoid(fx1)\n",
        "\n",
        "z"
      ],
      "metadata": {
        "colab": {
          "base_uri": "https://localhost:8080/"
        },
        "id": "tEd61ZY7mBqL",
        "outputId": "0a4e2d78-db40-4211-fc13-bda9d8cdabfa"
      },
      "execution_count": 28,
      "outputs": [
        {
          "output_type": "execute_result",
          "data": {
            "text/plain": [
              "array([[0.70726091, 0.81181346, 0.83422662, 0.84396159],\n",
              "       [0.84673304, 0.88635478, 0.9007122 , 0.92675877],\n",
              "       [0.8523754 , 0.88268335, 0.76360884, 0.90159536]])"
            ]
          },
          "metadata": {},
          "execution_count": 28
        }
      ]
    },
    {
      "cell_type": "code",
      "source": [
        "# Step - 3 : apply linear equation on output of hidden layer\n",
        "fx2 = np.dot(z, weightsoutput) + biasoutput\n",
        "\n",
        "# Step - 4 : apply activation on output layer\n",
        "output = sigmoid(fx2)"
      ],
      "metadata": {
        "id": "jsKPHJNTm2Fz"
      },
      "execution_count": 29,
      "outputs": []
    },
    {
      "cell_type": "code",
      "source": [
        "output"
      ],
      "metadata": {
        "colab": {
          "base_uri": "https://localhost:8080/"
        },
        "id": "bSQEZZgmnM71",
        "outputId": "3aea061d-2e69-4c47-dd16-4dcf59317f4c"
      },
      "execution_count": 30,
      "outputs": [
        {
          "output_type": "execute_result",
          "data": {
            "text/plain": [
              "array([[0.90690443],\n",
              "       [0.92083728],\n",
              "       [0.91734596]])"
            ]
          },
          "metadata": {},
          "execution_count": 30
        }
      ]
    },
    {
      "cell_type": "code",
      "source": [
        "y"
      ],
      "metadata": {
        "colab": {
          "base_uri": "https://localhost:8080/"
        },
        "id": "eVTqm529nM_6",
        "outputId": "24310920-ca9b-424b-a54b-bef37d8776aa"
      },
      "execution_count": 31,
      "outputs": [
        {
          "output_type": "execute_result",
          "data": {
            "text/plain": [
              "array([[1],\n",
              "       [1],\n",
              "       [0]])"
            ]
          },
          "metadata": {},
          "execution_count": 31
        }
      ]
    },
    {
      "cell_type": "code",
      "source": [
        "# As there is huge difference between output and target, we will perform backpropagation to rewrite the weights and get closer results. "
      ],
      "metadata": {
        "id": "guclSpLwiWKP"
      },
      "execution_count": 32,
      "outputs": []
    },
    {
      "cell_type": "code",
      "source": [
        "# Performing Backpropogation"
      ],
      "metadata": {
        "id": "sRqf_lo8sTC1"
      },
      "execution_count": 33,
      "outputs": []
    },
    {
      "cell_type": "code",
      "source": [
        "# Calculate loss on output layer\n",
        "outputloss = y - output\n",
        "\n",
        "outputloss"
      ],
      "metadata": {
        "colab": {
          "base_uri": "https://localhost:8080/"
        },
        "id": "V2OoyMo67q81",
        "outputId": "78610bf4-2693-4d85-d07f-663b05e38649"
      },
      "execution_count": 34,
      "outputs": [
        {
          "output_type": "execute_result",
          "data": {
            "text/plain": [
              "array([[ 0.09309557],\n",
              "       [ 0.07916272],\n",
              "       [-0.91734596]])"
            ]
          },
          "metadata": {},
          "execution_count": 34
        }
      ]
    },
    {
      "cell_type": "code",
      "source": [
        "def derivativeofsigmoid(x):\n",
        "  return x*(1-x)"
      ],
      "metadata": {
        "id": "UPoCB-zTsTNz"
      },
      "execution_count": 35,
      "outputs": []
    },
    {
      "cell_type": "code",
      "source": [
        "outputslope = derivativeofsigmoid(output)"
      ],
      "metadata": {
        "id": "8uyJTohzsTRt"
      },
      "execution_count": 36,
      "outputs": []
    },
    {
      "cell_type": "code",
      "source": [
        "output"
      ],
      "metadata": {
        "colab": {
          "base_uri": "https://localhost:8080/"
        },
        "id": "uGWNci5r_AnP",
        "outputId": "3b429fa4-de28-4314-c601-aad60cd53abc"
      },
      "execution_count": 37,
      "outputs": [
        {
          "output_type": "execute_result",
          "data": {
            "text/plain": [
              "array([[0.90690443],\n",
              "       [0.92083728],\n",
              "       [0.91734596]])"
            ]
          },
          "metadata": {},
          "execution_count": 37
        }
      ]
    },
    {
      "cell_type": "code",
      "source": [
        "outputslope"
      ],
      "metadata": {
        "colab": {
          "base_uri": "https://localhost:8080/"
        },
        "id": "4sJpAXPD_C3f",
        "outputId": "41f01e98-b796-40f7-bcf9-318a2702ef1b"
      },
      "execution_count": 38,
      "outputs": [
        {
          "output_type": "execute_result",
          "data": {
            "text/plain": [
              "array([[0.08442879],\n",
              "       [0.07289598],\n",
              "       [0.07582235]])"
            ]
          },
          "metadata": {},
          "execution_count": 38
        }
      ]
    },
    {
      "cell_type": "code",
      "source": [
        "deltaoutput = outputloss * outputslope\n",
        "deltaoutput"
      ],
      "metadata": {
        "colab": {
          "base_uri": "https://localhost:8080/"
        },
        "id": "pMeI_7Zq_C9F",
        "outputId": "05c26a45-1532-4342-f6d1-15eee6c8db2d"
      },
      "execution_count": 40,
      "outputs": [
        {
          "output_type": "execute_result",
          "data": {
            "text/plain": [
              "array([[ 0.00785995],\n",
              "       [ 0.00577064],\n",
              "       [-0.06955532]])"
            ]
          },
          "metadata": {},
          "execution_count": 40
        }
      ]
    },
    {
      "cell_type": "code",
      "source": [
        "# deltaout shape = 3,1\n",
        "# weightoutput shape = 4, 1\n",
        "# so we need to transpose weightsoutput \n",
        "hiddenloss = np.dot(deltaoutput, weightsoutput.T)\n",
        "\n",
        "hiddenloss"
      ],
      "metadata": {
        "colab": {
          "base_uri": "https://localhost:8080/"
        },
        "id": "4buE1kAn_DBG",
        "outputId": "34e027f4-6d9f-44a3-dc3b-ce61a76eb245"
      },
      "execution_count": 41,
      "outputs": [
        {
          "output_type": "execute_result",
          "data": {
            "text/plain": [
              "array([[ 0.00605681,  0.00212457,  0.00236643,  0.00282185],\n",
              "       [ 0.00444681,  0.00155982,  0.0017374 ,  0.00207175],\n",
              "       [-0.05359876, -0.01880102, -0.02094136, -0.02497148]])"
            ]
          },
          "metadata": {},
          "execution_count": 41
        }
      ]
    },
    {
      "cell_type": "code",
      "source": [
        "hiddenslope = derivativeofsigmoid(hiddenloss)"
      ],
      "metadata": {
        "id": "ZzmiSuEa_DE_"
      },
      "execution_count": 44,
      "outputs": []
    },
    {
      "cell_type": "code",
      "source": [
        "hiddenslope"
      ],
      "metadata": {
        "colab": {
          "base_uri": "https://localhost:8080/"
        },
        "id": "9MuKUugh_DVL",
        "outputId": "a6028026-e5f2-4ee0-ea8c-68d1f5577dab"
      },
      "execution_count": 45,
      "outputs": [
        {
          "output_type": "execute_result",
          "data": {
            "text/plain": [
              "array([[ 0.00602012,  0.00212005,  0.00236083,  0.00281388],\n",
              "       [ 0.00442704,  0.00155739,  0.00173438,  0.00206746],\n",
              "       [-0.05647159, -0.01915449, -0.0213799 , -0.02559505]])"
            ]
          },
          "metadata": {},
          "execution_count": 45
        }
      ]
    },
    {
      "cell_type": "code",
      "source": [
        "hiddendelta = hiddenloss*hiddenslope"
      ],
      "metadata": {
        "id": "II-xd9d-_Dbl"
      },
      "execution_count": 49,
      "outputs": []
    },
    {
      "cell_type": "code",
      "source": [
        "hiddendelta"
      ],
      "metadata": {
        "colab": {
          "base_uri": "https://localhost:8080/"
        },
        "id": "QcITIbbK_Der",
        "outputId": "825e5817-cd34-406f-d336-ed8c844c90c1"
      },
      "execution_count": 47,
      "outputs": [
        {
          "output_type": "execute_result",
          "data": {
            "text/plain": [
              "array([[3.64627501e-05, 4.50419692e-06, 5.58675132e-06, 7.94034858e-06],\n",
              "       [1.96861916e-05, 2.42925145e-06, 3.01330069e-06, 4.28327059e-06],\n",
              "       [3.02680685e-03, 3.60123953e-04, 4.47724320e-04, 6.39146172e-04]])"
            ]
          },
          "metadata": {},
          "execution_count": 47
        }
      ]
    },
    {
      "cell_type": "code",
      "source": [
        "# weights and bias optimisation\n",
        "\n",
        "# learning rate = alpha\n",
        "alpha = 0.3"
      ],
      "metadata": {
        "id": "ny2ciVuc_Djm"
      },
      "execution_count": 66,
      "outputs": []
    },
    {
      "cell_type": "code",
      "source": [
        "# z is our hidden layer \n",
        "weightsoutput = weightsoutput - z.T.dot(deltaoutput) * alpha\n",
        "weightshidden = weightshidden - X.T.dot(hiddendelta) * alpha\n",
        "biasoutput = biasoutput - np.sum(deltaoutput) * alpha\n",
        "biashidden = biashidden - np.sum(hiddendelta) * alpha"
      ],
      "metadata": {
        "id": "xzKDenIJjK22"
      },
      "execution_count": 67,
      "outputs": []
    },
    {
      "cell_type": "code",
      "source": [
        "# Now putting everything in a loop \n",
        "# Run from down here"
      ],
      "metadata": {
        "id": "c-1ZGveJjK7t"
      },
      "execution_count": null,
      "outputs": []
    },
    {
      "cell_type": "code",
      "source": [
        "epochs = 3000\n",
        "\n",
        "weightshidden = np.random.uniform(size=(inputneurons, hiddenneurons))\n",
        "biashidden = np.random.uniform(size=(1,hiddenneurons))\n",
        "weightsoutput = np.random.uniform(size=(hiddenneurons, outputneurons))\n",
        "biasoutput = np.random.uniform(size=(1,outputneurons))\n",
        "\n",
        "for i in range(epochs):\n",
        "\n",
        "  # Feedforward\n",
        "  # Step - 1 - apply linear equation\n",
        "  fx1 = np.dot(X, weightshidden) + biashidden\n",
        "  # Step - 2 - apply activation for non-linearity\n",
        "  z = sigmoid(fx1)\n",
        "  # Step - 3 : apply linear equation on output of hidden layer\n",
        "  fx2 = np.dot(z, weightsoutput) + biasoutput\n",
        "  # Step - 4 : apply activation on output layer\n",
        "  output = sigmoid(fx2)\n",
        "\n",
        "  # Backpropagation\n",
        "  outputloss = output - y\n",
        "  outputslope = derivativeofsigmoid(output)\n",
        "  deltaoutput = outputloss * outputslope\n",
        "  \n",
        "  hiddenloss = np.dot(deltaoutput, weightsoutput.T)\n",
        "  hiddenslope = derivativeofsigmoid(z)\n",
        "  hiddendelta = hiddenloss * hiddenslope\n",
        "\n",
        "  # Weights and Bias Optimization\n",
        "  weightsoutput = weightsoutput - z.T.dot(deltaoutput) * alpha\n",
        "  weightshidden = weightshidden - X.T.dot(hiddendelta) * alpha\n",
        "  biasoutput = biasoutput - np.sum(deltaoutput) * alpha\n",
        "  biashidden = biashidden - np.sum(hiddendelta) * alpha"
      ],
      "metadata": {
        "id": "rmbQw-5OjLBb"
      },
      "execution_count": 68,
      "outputs": []
    },
    {
      "cell_type": "code",
      "source": [
        "output"
      ],
      "metadata": {
        "colab": {
          "base_uri": "https://localhost:8080/"
        },
        "id": "89EPuPrGses2",
        "outputId": "3594b562-6642-49e6-abda-36e6aeae40dc"
      },
      "execution_count": 69,
      "outputs": [
        {
          "output_type": "execute_result",
          "data": {
            "text/plain": [
              "array([[0.98921212],\n",
              "       [0.98095774],\n",
              "       [0.02549425]])"
            ]
          },
          "metadata": {},
          "execution_count": 69
        }
      ]
    },
    {
      "cell_type": "code",
      "source": [
        "outputloss"
      ],
      "metadata": {
        "colab": {
          "base_uri": "https://localhost:8080/"
        },
        "id": "STjMfOH-tSkc",
        "outputId": "feecf330-59de-4419-f2f7-06f314cb0573"
      },
      "execution_count": 70,
      "outputs": [
        {
          "output_type": "execute_result",
          "data": {
            "text/plain": [
              "array([[-0.01078788],\n",
              "       [-0.01904226],\n",
              "       [ 0.02549425]])"
            ]
          },
          "metadata": {},
          "execution_count": 70
        }
      ]
    },
    {
      "cell_type": "code",
      "source": [],
      "metadata": {
        "id": "WFzaaFUltSqW"
      },
      "execution_count": null,
      "outputs": []
    },
    {
      "cell_type": "code",
      "source": [],
      "metadata": {
        "id": "idqoeavbtSu1"
      },
      "execution_count": null,
      "outputs": []
    }
  ]
}